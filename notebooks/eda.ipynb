{
 "cells": [
  {
   "cell_type": "code",
   "execution_count": null,
   "id": "f872fc5f",
   "metadata": {},
   "outputs": [],
   "source": [
    "from pathlib import Path\n",
    "\n",
    "import matplotlib.pyplot as plt\n",
    "import numpy as np\n",
    "import pandas as pd\n",
    "import seaborn as sns\n",
    "from hydra import compose, initialize\n",
    "\n",
    "from sklearn.feature_selection import mutual_info_classif\n",
    "from sklearn.decomposition import PCA\n",
    "from sklearn.preprocessing import StandardScaler\n",
    "\n",
    "from src.data import load_data"
   ]
  },
  {
   "cell_type": "markdown",
   "id": "be5ae961",
   "metadata": {},
   "source": [
    "# 1. Setup"
   ]
  },
  {
   "cell_type": "code",
   "execution_count": null,
   "id": "330f2623",
   "metadata": {},
   "outputs": [],
   "source": [
    "with initialize(config_path=\"../config\"):\n",
    "    cfg = compose(config_name=\"config\")"
   ]
  },
  {
   "cell_type": "code",
   "execution_count": null,
   "id": "086ab191",
   "metadata": {},
   "outputs": [],
   "source": [
    "root_path = Path(\"..\")"
   ]
  },
  {
   "cell_type": "markdown",
   "id": "4f248ce3",
   "metadata": {},
   "source": [
    "### Helper functions"
   ]
  },
  {
   "cell_type": "code",
   "execution_count": null,
   "id": "94874cc2",
   "metadata": {},
   "outputs": [],
   "source": [
    "def plot_grid(\n",
    "    df,\n",
    "    cols,\n",
    "    plot_func=None,\n",
    "    n_cols=3,\n",
    "    figsize=(12, 4),\n",
    "    orient=\"auto\",\n",
    "    order=\"auto\",\n",
    "    x=None,\n",
    "    y=None,\n",
    "    hue=None,\n",
    "    plot_type=None,  # nuevo: \"kde\", \"heatmap_crosstab\", \"custom\"\n",
    "    **plot_kwargs,\n",
    "):\n",
    "    \"\"\"\n",
    "    Render multiple subplots in a grid layout for a list of columns.\n",
    "\n",
    "    Parameters\n",
    "    ----------\n",
    "    df : pd.DataFrame\n",
    "        Input dataframe.\n",
    "    cols : list\n",
    "        Columns to plot.\n",
    "    plot_func : callable or None\n",
    "        Seaborn/matplotlib function. Ignorado si plot_type es especial.\n",
    "    n_cols : int\n",
    "        Number of subplot columns.\n",
    "    figsize : tuple\n",
    "        (width, height) per row.\n",
    "    orient : str\n",
    "        \"auto\", \"h\", \"v\" (solo relevante para countplot/boxplot).\n",
    "    order : str or list\n",
    "        \"auto\" (orden por frecuencia) o lista explícita.\n",
    "    x, y, hue : str or None\n",
    "        Column mappings.\n",
    "    plot_type : str or None\n",
    "        - None → comportamiento estándar\n",
    "        - \"kde\" → distribuciones condicionadas\n",
    "        - \"heatmap_crosstab\" → interacciones categóricas\n",
    "    plot_kwargs :\n",
    "        Extra args passed to plotting function.\n",
    "    \"\"\"\n",
    "    cols = list(cols)\n",
    "    if len(cols) == 0:\n",
    "        return\n",
    "\n",
    "    n_rows = int(np.ceil(len(cols) / n_cols))\n",
    "    fig, axes = plt.subplots(n_rows, n_cols, figsize=(figsize[0], figsize[1] * n_rows))\n",
    "    axes = axes.flatten()\n",
    "\n",
    "    for i, col in enumerate(cols):\n",
    "        ax = axes[i]\n",
    "\n",
    "        # --- Caso especial: heatmap de interacciones categóricas ---\n",
    "        if plot_type == \"heatmap_crosstab\" and hue is not None:\n",
    "            ct = pd.crosstab(df[col], df[hue], normalize=\"index\")\n",
    "            sns.heatmap(ct, annot=True, fmt=\".2f\", cmap=\"Blues\", ax=ax, **plot_kwargs)\n",
    "            ax.set_title(f\"{col} vs {hue}\")\n",
    "            continue\n",
    "\n",
    "        # --- Caso especial: distribuciones condicionadas (KDE/hist) ---\n",
    "        if plot_type == \"kde\" and hue is not None:\n",
    "            sns.kdeplot(\n",
    "                data=df,\n",
    "                x=col,\n",
    "                hue=hue,\n",
    "                common_norm=False,\n",
    "                fill=True,\n",
    "                ax=ax,\n",
    "                **plot_kwargs,\n",
    "            )\n",
    "            ax.set_title(f\"Distribution of {col} by {hue}\")\n",
    "            continue\n",
    "\n",
    "        # --- Caso especial: target fijo en un eje ---\n",
    "        if x is not None and y is None:\n",
    "            plot_func(data=df, x=x, y=col, ax=ax, hue=hue, **plot_kwargs)\n",
    "            ax.set_title(f\"{col} by {x}\")\n",
    "            continue\n",
    "        elif y is not None and x is None:\n",
    "            plot_func(data=df, x=col, y=y, ax=ax, hue=hue, **plot_kwargs)\n",
    "            ax.set_title(f\"{y} by {col}\")\n",
    "            continue\n",
    "\n",
    "        # --- Countplot con orientación dinámica ---\n",
    "        if plot_func is not None and plot_func.__name__ == \"countplot\":\n",
    "            n_unique = df[col].nunique(dropna=False)\n",
    "            use_h = (orient == \"h\") or (orient == \"auto\" and n_unique > 10)\n",
    "\n",
    "            if order == \"auto\":\n",
    "                ord_vals = df[col].value_counts(dropna=False).index\n",
    "            else:\n",
    "                ord_vals = order\n",
    "\n",
    "            if use_h:\n",
    "                plot_func(data=df, y=col, order=ord_vals, ax=ax, hue=hue, **plot_kwargs)\n",
    "                ax.set_xlabel(\"count\")\n",
    "                ax.set_ylabel(col)\n",
    "            else:\n",
    "                plot_func(data=df, x=col, order=ord_vals, ax=ax, hue=hue, **plot_kwargs)\n",
    "                ax.set_xlabel(col)\n",
    "                ax.set_ylabel(\"count\")\n",
    "                if ord_vals is not None and len(ord_vals) > 8:\n",
    "                    ax.tick_params(axis=\"x\", rotation=45)\n",
    "            continue\n",
    "\n",
    "        # --- Caso general ---\n",
    "        if plot_func is not None:\n",
    "            plot_func(data=df, x=col, ax=ax, hue=hue, **plot_kwargs)\n",
    "            ax.set_title(f\"{col}\")\n",
    "\n",
    "    # Limpiar ejes sobrantes\n",
    "    for j in range(i + 1, len(axes)):\n",
    "        fig.delaxes(axes[j])\n",
    "\n",
    "    plt.tight_layout()\n",
    "    plt.show()"
   ]
  },
  {
   "cell_type": "markdown",
   "id": "bcbc1367",
   "metadata": {},
   "source": [
    "# 2. Load data"
   ]
  },
  {
   "cell_type": "code",
   "execution_count": null,
   "id": "7e17032d",
   "metadata": {},
   "outputs": [],
   "source": [
    "df, _ = load_data(root_path / cfg[\"data\"][\"path\"])"
   ]
  },
  {
   "cell_type": "markdown",
   "id": "91cb2504",
   "metadata": {},
   "source": [
    "# 3. Data Overview & Quality Checks"
   ]
  },
  {
   "cell_type": "markdown",
   "id": "82460eab",
   "metadata": {},
   "source": [
    "### Basic info"
   ]
  },
  {
   "cell_type": "code",
   "execution_count": null,
   "id": "d8eec90e",
   "metadata": {},
   "outputs": [],
   "source": [
    "print(\"Shape of dataset:\", df.shape)"
   ]
  },
  {
   "cell_type": "code",
   "execution_count": null,
   "id": "dddbbddb",
   "metadata": {},
   "outputs": [],
   "source": [
    "df.head().transpose()"
   ]
  },
  {
   "cell_type": "code",
   "execution_count": null,
   "id": "aed0e89d",
   "metadata": {},
   "outputs": [],
   "source": [
    "df.info()"
   ]
  },
  {
   "cell_type": "markdown",
   "id": "5ab1b8c3",
   "metadata": {},
   "source": [
    "### Descriptive statistics (numeric + categorical)"
   ]
  },
  {
   "cell_type": "code",
   "execution_count": null,
   "id": "b4e07f9f",
   "metadata": {},
   "outputs": [],
   "source": [
    "display(df.describe(include=[np.number]).T)\n",
    "display(df.describe(include=[\"object\", \"category\"]).T)"
   ]
  },
  {
   "cell_type": "markdown",
   "id": "892f359b",
   "metadata": {},
   "source": [
    "### Duplicates"
   ]
  },
  {
   "cell_type": "code",
   "execution_count": null,
   "id": "81d1be56",
   "metadata": {},
   "outputs": [],
   "source": [
    "print(\"Duplicated rows:\", df.duplicated().sum())"
   ]
  },
  {
   "cell_type": "markdown",
   "id": "e4ca58e9",
   "metadata": {},
   "source": [
    "### Cardinality & low variance"
   ]
  },
  {
   "cell_type": "code",
   "execution_count": null,
   "id": "840bbc93",
   "metadata": {},
   "outputs": [],
   "source": [
    "unique_counts = df.nunique().sort_values()\n",
    "print(\"High cardinality features:\", unique_counts[unique_counts > 50])\n",
    "print(\"Constant features:\", unique_counts[unique_counts == 1])"
   ]
  },
  {
   "cell_type": "markdown",
   "id": "54e8eb85",
   "metadata": {},
   "source": [
    "# 4. Missing Values Analysis"
   ]
  },
  {
   "cell_type": "code",
   "execution_count": null,
   "id": "69a2b2e7",
   "metadata": {},
   "outputs": [],
   "source": [
    "missing = df.isnull().sum()\n",
    "missing_pct = (missing / len(df)) * 100\n",
    "missing_df = (\n",
    "    pd.DataFrame({\"Missing Count\": missing, \"Missing %\": missing_pct})\n",
    "    .query(\"`Missing Count` > 0\")\n",
    "    .sort_values(by=\"Missing %\", ascending=False)\n",
    ")\n",
    "\n",
    "if not missing_df.empty:\n",
    "    display(missing_df)\n",
    "    plt.figure(figsize=(10, 4))\n",
    "    sns.barplot(x=missing_df.index, y=missing_df[\"Missing %\"])\n",
    "    plt.title(\"Missing Values (%)\")\n",
    "    plt.xticks(rotation=45)"
   ]
  },
  {
   "cell_type": "markdown",
   "id": "38c6c449",
   "metadata": {},
   "source": [
    "# 5. Target Variable Analysis"
   ]
  },
  {
   "cell_type": "code",
   "execution_count": null,
   "id": "c8a2120e",
   "metadata": {},
   "outputs": [],
   "source": [
    "target = cfg[\"data\"][\"target\"]"
   ]
  },
  {
   "cell_type": "markdown",
   "id": "09f31984",
   "metadata": {},
   "source": [
    "### Distribution of target"
   ]
  },
  {
   "cell_type": "code",
   "execution_count": null,
   "id": "1851a5fa",
   "metadata": {},
   "outputs": [],
   "source": [
    "plt.figure(figsize=(5, 4))\n",
    "sns.countplot(x=target, data=df)\n",
    "plt.title(\"Target Variable Distribution\")\n",
    "plt.show()"
   ]
  },
  {
   "cell_type": "markdown",
   "id": "e1b69088",
   "metadata": {},
   "source": [
    "### Class balance in %"
   ]
  },
  {
   "cell_type": "code",
   "execution_count": null,
   "id": "472ada75",
   "metadata": {},
   "outputs": [],
   "source": [
    "print(df[target].value_counts(normalize=True).mul(100).round(2))"
   ]
  },
  {
   "cell_type": "markdown",
   "id": "b8012950",
   "metadata": {},
   "source": [
    "# 6. Univariate Feature Analysis"
   ]
  },
  {
   "cell_type": "code",
   "execution_count": null,
   "id": "2aad237a",
   "metadata": {},
   "outputs": [],
   "source": [
    "numeric_cols = df.select_dtypes(include=np.number).columns\n",
    "cat_cols = df.select_dtypes(exclude=np.number).columns.drop(target, errors=\"ignore\")"
   ]
  },
  {
   "cell_type": "markdown",
   "id": "64787da4",
   "metadata": {},
   "source": [
    "### Histograms for numeric variables"
   ]
  },
  {
   "cell_type": "code",
   "execution_count": null,
   "id": "5319d936",
   "metadata": {},
   "outputs": [],
   "source": [
    "plot_grid(df, numeric_cols, sns.histplot, bins=30, kde=True)"
   ]
  },
  {
   "cell_type": "markdown",
   "id": "601b09e6",
   "metadata": {},
   "source": [
    "### Count plots for categorical variables"
   ]
  },
  {
   "cell_type": "code",
   "execution_count": null,
   "id": "68103618",
   "metadata": {},
   "outputs": [],
   "source": [
    "plot_grid(df, cat_cols, sns.countplot)"
   ]
  },
  {
   "cell_type": "markdown",
   "id": "4bb3a6fe",
   "metadata": {},
   "source": [
    "# 7. Bivariate Analysis"
   ]
  },
  {
   "cell_type": "markdown",
   "id": "971b99aa",
   "metadata": {},
   "source": [
    "### Correlation matrix"
   ]
  },
  {
   "cell_type": "code",
   "execution_count": null,
   "id": "c8f818d1",
   "metadata": {},
   "outputs": [],
   "source": [
    "numeric_plus_target = list(numeric_cols)\n",
    "\n",
    "if pd.api.types.is_numeric_dtype(df[target]):\n",
    "    numeric_plus_target.append(target)\n",
    "elif df[target].nunique() <= 10:  # categórico con pocas clases\n",
    "    df[\"_target_num_\"] = pd.factorize(df[target])[0]\n",
    "    numeric_plus_target.append(\"_target_num_\")\n",
    "    print(\n",
    "        f\"Target '{target}' convertido a numérico y agregado al heatmap como '_target_num_'\"\n",
    "    )\n",
    "else:\n",
    "    print(f\"Target '{target}' no agregado al heatmap (demasiados valores únicos).\")\n",
    "\n",
    "corr = df[numeric_plus_target].corr()\n",
    "\n",
    "plt.figure(figsize=(12, 8))\n",
    "sns.heatmap(corr, cmap=\"coolwarm\", annot=True, fmt=\".2f\", vmax=1, vmin=-1)\n",
    "plt.title(\"Correlation Matrix (Numeric Features + Target)\")\n",
    "plt.show()\n",
    "\n",
    "# Limpieza si se creó columna auxiliar\n",
    "if \"_target_num_\" in df.columns:\n",
    "    df.drop(columns=\"_target_num_\", inplace=True)"
   ]
  },
  {
   "cell_type": "markdown",
   "id": "075e627a",
   "metadata": {},
   "source": [
    "### Correlations with target (if numeric)"
   ]
  },
  {
   "cell_type": "code",
   "execution_count": null,
   "id": "29bbf94c",
   "metadata": {},
   "outputs": [],
   "source": [
    "if pd.api.types.is_numeric_dtype(df[target]):\n",
    "    target_series = df[target]\n",
    "elif df[target].nunique() <= 10:  # categórico con pocas clases\n",
    "    target_series = pd.factorize(df[target])[0]  # codificación ordinal simple\n",
    "    print(f\"Target '{target}' convertido a numérico para correlación.\")\n",
    "else:\n",
    "    target_series = None\n",
    "    print(\n",
    "        f\"Target '{target}' tiene demasiados valores únicos, no se calcularán correlaciones.\"\n",
    "    )\n",
    "\n",
    "if target_series is not None:\n",
    "    corr_target = df[numeric_cols].corrwith(pd.Series(target_series, index=df.index))\n",
    "    corr_target = corr_target.sort_values(ascending=False)\n",
    "\n",
    "    plt.figure(figsize=(10, 4))\n",
    "    corr_target.plot(kind=\"bar\")\n",
    "    plt.title(\"Correlation with Target\")\n",
    "    plt.show()"
   ]
  },
  {
   "cell_type": "markdown",
   "id": "a8d96f6f",
   "metadata": {},
   "source": [
    "### Boxplots: numeric vs target (if categorical target)"
   ]
  },
  {
   "cell_type": "code",
   "execution_count": null,
   "id": "d6afe63e",
   "metadata": {},
   "outputs": [],
   "source": [
    "if df[target].nunique() <= 10:\n",
    "    plot_grid(df, numeric_cols, sns.boxplot, x=target)"
   ]
  },
  {
   "cell_type": "markdown",
   "id": "47da3a60",
   "metadata": {},
   "source": [
    "### Conditional distributions by target (KDE plots)"
   ]
  },
  {
   "cell_type": "code",
   "execution_count": null,
   "id": "5194e79d",
   "metadata": {},
   "outputs": [],
   "source": [
    "if df[target].nunique() <= 10:\n",
    "    plot_grid(df, numeric_cols, plot_type=\"kde\", hue=target)"
   ]
  },
  {
   "cell_type": "markdown",
   "id": "792d5cbf",
   "metadata": {},
   "source": [
    "### Interactions categorical vs target"
   ]
  },
  {
   "cell_type": "code",
   "execution_count": null,
   "id": "b0713d0f",
   "metadata": {},
   "outputs": [],
   "source": [
    "plot_grid(df, cat_cols, plot_type=\"heatmap_crosstab\", hue=target)"
   ]
  },
  {
   "cell_type": "markdown",
   "id": "10fcaf41",
   "metadata": {},
   "source": [
    "# 8. Outlier Detection"
   ]
  },
  {
   "cell_type": "code",
   "execution_count": null,
   "id": "30a975b7",
   "metadata": {},
   "outputs": [],
   "source": [
    "plot_grid(df, numeric_cols, sns.boxplot)"
   ]
  },
  {
   "cell_type": "markdown",
   "id": "99405add",
   "metadata": {},
   "source": [
    "# 9. Multivariate Insights"
   ]
  },
  {
   "cell_type": "markdown",
   "id": "72002e11",
   "metadata": {},
   "source": [
    "### Pairplot of numeric features + target"
   ]
  },
  {
   "cell_type": "code",
   "execution_count": null,
   "id": "a586ebb8",
   "metadata": {},
   "outputs": [],
   "source": [
    "sns.pairplot(df[numeric_cols.tolist() + [target]], hue=target)\n",
    "plt.show()"
   ]
  },
  {
   "cell_type": "markdown",
   "id": "151546a4",
   "metadata": {},
   "source": [
    "# 10. Feature Importance (Mutual Information)"
   ]
  },
  {
   "cell_type": "code",
   "execution_count": null,
   "id": "5eb517fe",
   "metadata": {},
   "outputs": [],
   "source": [
    "X = df[numeric_cols].dropna()\n",
    "y = df[target].loc[X.index]\n",
    "if not y.empty and y.nunique() > 1:\n",
    "    mi = mutual_info_classif(X, y, discrete_features=False)\n",
    "    mi_df = pd.DataFrame({\"Feature\": X.columns, \"MI\": mi}).sort_values(\n",
    "        \"MI\", ascending=False\n",
    "    )\n",
    "    sns.barplot(data=mi_df, x=\"MI\", y=\"Feature\")\n",
    "    plt.title(\"Mutual Information with Target\")\n",
    "    plt.show()"
   ]
  },
  {
   "cell_type": "markdown",
   "id": "623c549f",
   "metadata": {},
   "source": [
    "# 11. Dimensionality Reduction (PCA)"
   ]
  },
  {
   "cell_type": "code",
   "execution_count": null,
   "id": "a2af03a5",
   "metadata": {},
   "outputs": [],
   "source": [
    "X_scaled = StandardScaler().fit_transform(df[numeric_cols].dropna())\n",
    "pca = PCA(n_components=2)\n",
    "X_pca = pca.fit_transform(X_scaled)\n",
    "\n",
    "plt.figure(figsize=(6, 5))\n",
    "sns.scatterplot(x=X_pca[:, 0], y=X_pca[:, 1], hue=df[target], palette=\"Set2\")\n",
    "plt.title(\"PCA (2D projection)\")\n",
    "plt.show()"
   ]
  }
 ],
 "metadata": {
  "kernelspec": {
   "display_name": "breast-cancer",
   "language": "python",
   "name": "python3"
  },
  "language_info": {
   "codemirror_mode": {
    "name": "ipython",
    "version": 3
   },
   "file_extension": ".py",
   "mimetype": "text/x-python",
   "name": "python",
   "nbconvert_exporter": "python",
   "pygments_lexer": "ipython3",
   "version": "3.11.11"
  }
 },
 "nbformat": 4,
 "nbformat_minor": 5
}
